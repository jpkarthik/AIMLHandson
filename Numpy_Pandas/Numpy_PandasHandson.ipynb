{
  "nbformat": 4,
  "nbformat_minor": 0,
  "metadata": {
    "colab": {
      "provenance": [],
      "collapsed_sections": [
        "bjhe_vyuyfdS",
        "IwTSoEU1ymV0",
        "mdomU_VkzAPm",
        "zQdy3JdazPM-"
      ]
    },
    "kernelspec": {
      "name": "python3",
      "display_name": "Python 3"
    },
    "language_info": {
      "name": "python"
    }
  },
  "cells": [
    {
      "cell_type": "markdown",
      "source": [
        "# Assignment 1\n",
        "\n",
        " Create a 1D NumPy array with at least 10 elements\n",
        "2. Create a 2D NumPy array with a minimum of 3 rows and 4 columns\n",
        "3. Create a 3D NumPy array with at least 2 matrices, each containing 2 rows and 3 columns\n",
        "4. Accessing Elements in Arrays\n",
        "5. Access and print various elements from 1D, 2D, and, 3D using positive indexing\n",
        "6. Perform and print some basic arithmetic operations (like addition, subtraction) using elements accessed from 1D, 2D, and, 3D arrays\n",
        "7. Access and print elements using negative indices in all three arrays"
      ],
      "metadata": {
        "id": "bjhe_vyuyfdS"
      }
    },
    {
      "cell_type": "code",
      "execution_count": null,
      "metadata": {
        "id": "YrNuK7LQyNPG"
      },
      "outputs": [],
      "source": []
    },
    {
      "cell_type": "markdown",
      "source": [
        "# Assignment 2\n",
        "\n",
        "Consider the following arrays:\n",
        "\n",
        "- Arrays for Arithmetic Operations:\n",
        "  * Array A: [15, 25, 35, 45, 55]\n",
        "  * Array B: [5, 10, 15, 20, 25]\n",
        "\n",
        "- Array for Statistical Operations:\n",
        "  * Array C: [12, 22, 32, 42, 52, 62, 72, 82, 92, 102]\n",
        "\n",
        "- Arrays for String Functions:\n",
        "  * String Array X: ['Hello', 'Data', 'Science', 'Class', 'Learners']\n",
        "  * String Array Y: ['World', 'Analysis', 'is', 'Fun', '2023']\n",
        "  \n",
        "  \n",
        "__Steps to Perform:__\n",
        "\n",
        "1. Perform element-wise addition, subtraction, multiplication, division, and power operations on Arrays A and B\n",
        "2. Calculate the median, mean, standard deviation, and variance for Array C\n",
        "3. Concatenate corresponding elements of String Arrays X and Y\n",
        "4. Convert all elements in String Array X to uppercase\n",
        "5. Replace a specific substring in String Array Y with another substring"
      ],
      "metadata": {
        "id": "IwTSoEU1ymV0"
      }
    },
    {
      "cell_type": "code",
      "source": [],
      "metadata": {
        "id": "lGMupKJAy3rH"
      },
      "execution_count": null,
      "outputs": []
    },
    {
      "cell_type": "markdown",
      "source": [
        "# Assignment 3\n",
        "\n",
        "### __Problem Statement:__\n",
        "\n",
        "As a data scientist, your task is to create a Python project that explores NumPy arrays' attributes and functions. This project will deepen your understanding of NumPy arrays, including accessing their attributes and performing common operations using NumPy functions. Use the dataset containing daily temperature records for a week.\n",
        "\n",
        "temperatures = [ 75.2, 77.1, 74.5, 79.3, 82.6, 81.2, 77.8 ]\n",
        "\n",
        "\n",
        "**Steps to Perform:**\n",
        "\n",
        "1. Explore the key attributes of NumPy arrays, including `ndim`, `shape`, `size`, `dtype`, `itemsize`, and `data`.\n",
        "2. Demonstrate important NumPy array functions such as `reshape`, `flatten`, and `transpose`."
      ],
      "metadata": {
        "id": "mdomU_VkzAPm"
      }
    },
    {
      "cell_type": "code",
      "source": [],
      "metadata": {
        "id": "5ESo52pEzBjB"
      },
      "execution_count": null,
      "outputs": []
    },
    {
      "cell_type": "markdown",
      "source": [
        "# Assignment 4\n",
        "\n",
        "## __Problem Statement:__\n",
        "Use Pandas Series to analyze sales data for a retail store over a week and draw insights from the data.\n",
        "\n",
        "\n",
        "### __Dataset:__\n",
        "__Sample sales data__\n",
        "\n",
        "sales_data = [120, 150, 130, 170, 160, 180, 140]\n",
        "\n",
        "days_of_week = ['Monday', 'Tuesday', 'Wednesday', 'Thursday', 'Friday', 'Saturday', 'Sunday']\n",
        "\n",
        "## __Steps to Perform__\n",
        "\n",
        "1. Create a Pandas Series for sales data\n",
        "- Use a list of daily sales figures to create a Pandas Series\n",
        "- Assign days of the week as the index\n",
        "2. Access and manipulate sales data\n",
        "- Access sales data for specific days using index labels\n",
        "- Calculate total sales for the week\n",
        "- Identify the day with the highest and lowest sales\n",
        "   \n",
        "3. Basic analysis of sales data\n",
        "- Calculate the average sales for the week\n",
        "- Determine the days with sales figures significantly different from the average"
      ],
      "metadata": {
        "id": "zQdy3JdazPM-"
      }
    },
    {
      "cell_type": "code",
      "source": [],
      "metadata": {
        "id": "2N_SyX7UzW9P"
      },
      "execution_count": null,
      "outputs": []
    }
  ]
}